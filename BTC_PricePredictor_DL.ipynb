{
  "nbformat": 4,
  "nbformat_minor": 0,
  "metadata": {
    "colab": {
      "provenance": [],
      "collapsed_sections": []
    },
    "kernelspec": {
      "name": "python3",
      "display_name": "Python 3"
    },
    "language_info": {
      "name": "python"
    }
  },
  "cells": [
    {
      "cell_type": "markdown",
      "metadata": {
        "id": "uoe5DSyKEkf4"
      },
      "source": [
        "## **Bitcoin Price Prediction using Deep Learning**![btc ml.jpeg](data:image/jpeg;base64,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)\n",
        "\n"
      ]
    },
    {
      "cell_type": "markdown",
      "metadata": {
        "id": "j0vge7mzm0zK"
      },
      "source": [
        "# **Load Data**"
      ]
    },
    {
      "cell_type": "code",
      "metadata": {
        "id": "mRYUZefZkW3j",
        "colab": {
          "base_uri": "https://localhost:8080/"
        },
        "outputId": "d1e1cb54-958a-49a9-d6a0-6d61cdfd6b84"
      },
      "source": [
        "!pip install yfinance"
      ],
      "execution_count": null,
      "outputs": [
        {
          "output_type": "stream",
          "name": "stdout",
          "text": [
            "Collecting yfinance\n",
            "  Downloading yfinance-0.1.70-py2.py3-none-any.whl (26 kB)\n",
            "Collecting requests>=2.26\n",
            "  Downloading requests-2.27.1-py2.py3-none-any.whl (63 kB)\n",
            "\u001b[K     |████████████████████████████████| 63 kB 1.4 MB/s \n",
            "\u001b[?25hRequirement already satisfied: multitasking>=0.0.7 in /usr/local/lib/python3.7/dist-packages (from yfinance) (0.0.10)\n",
            "Requirement already satisfied: pandas>=0.24.0 in /usr/local/lib/python3.7/dist-packages (from yfinance) (1.3.5)\n",
            "Collecting lxml>=4.5.1\n",
            "  Downloading lxml-4.8.0-cp37-cp37m-manylinux_2_17_x86_64.manylinux2014_x86_64.manylinux_2_24_x86_64.whl (6.4 MB)\n",
            "\u001b[K     |████████████████████████████████| 6.4 MB 21.6 MB/s \n",
            "\u001b[?25hRequirement already satisfied: numpy>=1.15 in /usr/local/lib/python3.7/dist-packages (from yfinance) (1.21.5)\n",
            "Requirement already satisfied: python-dateutil>=2.7.3 in /usr/local/lib/python3.7/dist-packages (from pandas>=0.24.0->yfinance) (2.8.2)\n",
            "Requirement already satisfied: pytz>=2017.3 in /usr/local/lib/python3.7/dist-packages (from pandas>=0.24.0->yfinance) (2018.9)\n",
            "Requirement already satisfied: six>=1.5 in /usr/local/lib/python3.7/dist-packages (from python-dateutil>=2.7.3->pandas>=0.24.0->yfinance) (1.15.0)\n",
            "Requirement already satisfied: urllib3<1.27,>=1.21.1 in /usr/local/lib/python3.7/dist-packages (from requests>=2.26->yfinance) (1.24.3)\n",
            "Requirement already satisfied: charset-normalizer~=2.0.0 in /usr/local/lib/python3.7/dist-packages (from requests>=2.26->yfinance) (2.0.11)\n",
            "Requirement already satisfied: idna<4,>=2.5 in /usr/local/lib/python3.7/dist-packages (from requests>=2.26->yfinance) (2.10)\n",
            "Requirement already satisfied: certifi>=2017.4.17 in /usr/local/lib/python3.7/dist-packages (from requests>=2.26->yfinance) (2021.10.8)\n",
            "Installing collected packages: requests, lxml, yfinance\n",
            "  Attempting uninstall: requests\n",
            "    Found existing installation: requests 2.23.0\n",
            "    Uninstalling requests-2.23.0:\n",
            "      Successfully uninstalled requests-2.23.0\n",
            "  Attempting uninstall: lxml\n",
            "    Found existing installation: lxml 4.2.6\n",
            "    Uninstalling lxml-4.2.6:\n",
            "      Successfully uninstalled lxml-4.2.6\n",
            "\u001b[31mERROR: pip's dependency resolver does not currently take into account all the packages that are installed. This behaviour is the source of the following dependency conflicts.\n",
            "google-colab 1.0.0 requires requests~=2.23.0, but you have requests 2.27.1 which is incompatible.\n",
            "datascience 0.10.6 requires folium==0.2.1, but you have folium 0.8.3 which is incompatible.\u001b[0m\n",
            "Successfully installed lxml-4.8.0 requests-2.27.1 yfinance-0.1.70\n"
          ]
        }
      ]
    },
    {
      "cell_type": "code",
      "metadata": {
        "id": "hWejDbH0lcPm"
      },
      "source": [
        "import yfinance as yf\n",
        "import numpy as np\n",
        "import pandas as pd\n",
        "import pandas_datareader as web\n",
        "import datetime as dt\n",
        "import matplotlib.pyplot as plt\n",
        "from sklearn.preprocessing import MinMaxScaler\n",
        "import tensorflow as tf\n",
        "from tensorflow.keras.layers import Dense,Dropout,LSTM\n",
        "from tensorflow.keras.models import Sequential"
      ],
      "execution_count": null,
      "outputs": []
    },
    {
      "cell_type": "code",
      "metadata": {
        "id": "wNHl9noul9Fp",
        "colab": {
          "base_uri": "https://localhost:8080/",
          "height": 524
        },
        "outputId": "7e8c3a5d-6c98-4770-b83b-1366d4352f72"
      },
      "source": [
        "\n",
        "print(\"Hint: Bitcoin-BTC ; Fiat-USD/INR\")\n",
        "crypto=input(\"Enter CryptoCurrency:\")\n",
        "fiat=input(\"Enter Fiat:\")\n",
        "s=crypto+'-'+fiat\n",
        "df=yf.download(s)\n",
        "df"
      ],
      "execution_count": null,
      "outputs": [
        {
          "output_type": "stream",
          "name": "stdout",
          "text": [
            "Hint: Bitcoin-BTC ; Fiat-USD/INR\n",
            "Enter CryptoCurrency:BTC\n",
            "Enter Fiat:USD\n",
            "[*********************100%***********************]  1 of 1 completed\n"
          ]
        },
        {
          "output_type": "execute_result",
          "data": {
            "text/html": [
              "\n",
              "  <div id=\"df-78ba8ab1-b5a7-4ab5-a134-dca1d8fa8577\">\n",
              "    <div class=\"colab-df-container\">\n",
              "      <div>\n",
              "<style scoped>\n",
              "    .dataframe tbody tr th:only-of-type {\n",
              "        vertical-align: middle;\n",
              "    }\n",
              "\n",
              "    .dataframe tbody tr th {\n",
              "        vertical-align: top;\n",
              "    }\n",
              "\n",
              "    .dataframe thead th {\n",
              "        text-align: right;\n",
              "    }\n",
              "</style>\n",
              "<table border=\"1\" class=\"dataframe\">\n",
              "  <thead>\n",
              "    <tr style=\"text-align: right;\">\n",
              "      <th></th>\n",
              "      <th>Open</th>\n",
              "      <th>High</th>\n",
              "      <th>Low</th>\n",
              "      <th>Close</th>\n",
              "      <th>Adj Close</th>\n",
              "      <th>Volume</th>\n",
              "    </tr>\n",
              "    <tr>\n",
              "      <th>Date</th>\n",
              "      <th></th>\n",
              "      <th></th>\n",
              "      <th></th>\n",
              "      <th></th>\n",
              "      <th></th>\n",
              "      <th></th>\n",
              "    </tr>\n",
              "  </thead>\n",
              "  <tbody>\n",
              "    <tr>\n",
              "      <th>2014-09-17</th>\n",
              "      <td>465.864014</td>\n",
              "      <td>468.174011</td>\n",
              "      <td>452.421997</td>\n",
              "      <td>457.334015</td>\n",
              "      <td>457.334015</td>\n",
              "      <td>21056800</td>\n",
              "    </tr>\n",
              "    <tr>\n",
              "      <th>2014-09-18</th>\n",
              "      <td>456.859985</td>\n",
              "      <td>456.859985</td>\n",
              "      <td>413.104004</td>\n",
              "      <td>424.440002</td>\n",
              "      <td>424.440002</td>\n",
              "      <td>34483200</td>\n",
              "    </tr>\n",
              "    <tr>\n",
              "      <th>2014-09-19</th>\n",
              "      <td>424.102997</td>\n",
              "      <td>427.834991</td>\n",
              "      <td>384.532013</td>\n",
              "      <td>394.795990</td>\n",
              "      <td>394.795990</td>\n",
              "      <td>37919700</td>\n",
              "    </tr>\n",
              "    <tr>\n",
              "      <th>2014-09-20</th>\n",
              "      <td>394.673004</td>\n",
              "      <td>423.295990</td>\n",
              "      <td>389.882996</td>\n",
              "      <td>408.903992</td>\n",
              "      <td>408.903992</td>\n",
              "      <td>36863600</td>\n",
              "    </tr>\n",
              "    <tr>\n",
              "      <th>2014-09-21</th>\n",
              "      <td>408.084991</td>\n",
              "      <td>412.425995</td>\n",
              "      <td>393.181000</td>\n",
              "      <td>398.821014</td>\n",
              "      <td>398.821014</td>\n",
              "      <td>26580100</td>\n",
              "    </tr>\n",
              "    <tr>\n",
              "      <th>...</th>\n",
              "      <td>...</td>\n",
              "      <td>...</td>\n",
              "      <td>...</td>\n",
              "      <td>...</td>\n",
              "      <td>...</td>\n",
              "      <td>...</td>\n",
              "    </tr>\n",
              "    <tr>\n",
              "      <th>2022-02-14</th>\n",
              "      <td>42157.398438</td>\n",
              "      <td>42775.777344</td>\n",
              "      <td>41681.957031</td>\n",
              "      <td>42586.917969</td>\n",
              "      <td>42586.917969</td>\n",
              "      <td>20827783012</td>\n",
              "    </tr>\n",
              "    <tr>\n",
              "      <th>2022-02-15</th>\n",
              "      <td>42586.464844</td>\n",
              "      <td>44667.218750</td>\n",
              "      <td>42491.035156</td>\n",
              "      <td>44575.203125</td>\n",
              "      <td>44575.203125</td>\n",
              "      <td>22721659051</td>\n",
              "    </tr>\n",
              "    <tr>\n",
              "      <th>2022-02-16</th>\n",
              "      <td>44578.277344</td>\n",
              "      <td>44578.277344</td>\n",
              "      <td>43456.691406</td>\n",
              "      <td>43961.859375</td>\n",
              "      <td>43961.859375</td>\n",
              "      <td>19792547657</td>\n",
              "    </tr>\n",
              "    <tr>\n",
              "      <th>2022-02-17</th>\n",
              "      <td>43937.070312</td>\n",
              "      <td>44132.972656</td>\n",
              "      <td>40249.371094</td>\n",
              "      <td>40538.011719</td>\n",
              "      <td>40538.011719</td>\n",
              "      <td>26246662813</td>\n",
              "    </tr>\n",
              "    <tr>\n",
              "      <th>2022-02-18</th>\n",
              "      <td>40475.714844</td>\n",
              "      <td>40922.371094</td>\n",
              "      <td>39696.546875</td>\n",
              "      <td>40230.867188</td>\n",
              "      <td>40230.867188</td>\n",
              "      <td>25986531328</td>\n",
              "    </tr>\n",
              "  </tbody>\n",
              "</table>\n",
              "<p>2712 rows × 6 columns</p>\n",
              "</div>\n",
              "      <button class=\"colab-df-convert\" onclick=\"convertToInteractive('df-78ba8ab1-b5a7-4ab5-a134-dca1d8fa8577')\"\n",
              "              title=\"Convert this dataframe to an interactive table.\"\n",
              "              style=\"display:none;\">\n",
              "        \n",
              "  <svg xmlns=\"http://www.w3.org/2000/svg\" height=\"24px\"viewBox=\"0 0 24 24\"\n",
              "       width=\"24px\">\n",
              "    <path d=\"M0 0h24v24H0V0z\" fill=\"none\"/>\n",
              "    <path d=\"M18.56 5.44l.94 2.06.94-2.06 2.06-.94-2.06-.94-.94-2.06-.94 2.06-2.06.94zm-11 1L8.5 8.5l.94-2.06 2.06-.94-2.06-.94L8.5 2.5l-.94 2.06-2.06.94zm10 10l.94 2.06.94-2.06 2.06-.94-2.06-.94-.94-2.06-.94 2.06-2.06.94z\"/><path d=\"M17.41 7.96l-1.37-1.37c-.4-.4-.92-.59-1.43-.59-.52 0-1.04.2-1.43.59L10.3 9.45l-7.72 7.72c-.78.78-.78 2.05 0 2.83L4 21.41c.39.39.9.59 1.41.59.51 0 1.02-.2 1.41-.59l7.78-7.78 2.81-2.81c.8-.78.8-2.07 0-2.86zM5.41 20L4 18.59l7.72-7.72 1.47 1.35L5.41 20z\"/>\n",
              "  </svg>\n",
              "      </button>\n",
              "      \n",
              "  <style>\n",
              "    .colab-df-container {\n",
              "      display:flex;\n",
              "      flex-wrap:wrap;\n",
              "      gap: 12px;\n",
              "    }\n",
              "\n",
              "    .colab-df-convert {\n",
              "      background-color: #E8F0FE;\n",
              "      border: none;\n",
              "      border-radius: 50%;\n",
              "      cursor: pointer;\n",
              "      display: none;\n",
              "      fill: #1967D2;\n",
              "      height: 32px;\n",
              "      padding: 0 0 0 0;\n",
              "      width: 32px;\n",
              "    }\n",
              "\n",
              "    .colab-df-convert:hover {\n",
              "      background-color: #E2EBFA;\n",
              "      box-shadow: 0px 1px 2px rgba(60, 64, 67, 0.3), 0px 1px 3px 1px rgba(60, 64, 67, 0.15);\n",
              "      fill: #174EA6;\n",
              "    }\n",
              "\n",
              "    [theme=dark] .colab-df-convert {\n",
              "      background-color: #3B4455;\n",
              "      fill: #D2E3FC;\n",
              "    }\n",
              "\n",
              "    [theme=dark] .colab-df-convert:hover {\n",
              "      background-color: #434B5C;\n",
              "      box-shadow: 0px 1px 3px 1px rgba(0, 0, 0, 0.15);\n",
              "      filter: drop-shadow(0px 1px 2px rgba(0, 0, 0, 0.3));\n",
              "      fill: #FFFFFF;\n",
              "    }\n",
              "  </style>\n",
              "\n",
              "      <script>\n",
              "        const buttonEl =\n",
              "          document.querySelector('#df-78ba8ab1-b5a7-4ab5-a134-dca1d8fa8577 button.colab-df-convert');\n",
              "        buttonEl.style.display =\n",
              "          google.colab.kernel.accessAllowed ? 'block' : 'none';\n",
              "\n",
              "        async function convertToInteractive(key) {\n",
              "          const element = document.querySelector('#df-78ba8ab1-b5a7-4ab5-a134-dca1d8fa8577');\n",
              "          const dataTable =\n",
              "            await google.colab.kernel.invokeFunction('convertToInteractive',\n",
              "                                                     [key], {});\n",
              "          if (!dataTable) return;\n",
              "\n",
              "          const docLinkHtml = 'Like what you see? Visit the ' +\n",
              "            '<a target=\"_blank\" href=https://colab.research.google.com/notebooks/data_table.ipynb>data table notebook</a>'\n",
              "            + ' to learn more about interactive tables.';\n",
              "          element.innerHTML = '';\n",
              "          dataTable['output_type'] = 'display_data';\n",
              "          await google.colab.output.renderOutput(dataTable, element);\n",
              "          const docLink = document.createElement('div');\n",
              "          docLink.innerHTML = docLinkHtml;\n",
              "          element.appendChild(docLink);\n",
              "        }\n",
              "      </script>\n",
              "    </div>\n",
              "  </div>\n",
              "  "
            ],
            "text/plain": [
              "                    Open          High  ...     Adj Close       Volume\n",
              "Date                                    ...                           \n",
              "2014-09-17    465.864014    468.174011  ...    457.334015     21056800\n",
              "2014-09-18    456.859985    456.859985  ...    424.440002     34483200\n",
              "2014-09-19    424.102997    427.834991  ...    394.795990     37919700\n",
              "2014-09-20    394.673004    423.295990  ...    408.903992     36863600\n",
              "2014-09-21    408.084991    412.425995  ...    398.821014     26580100\n",
              "...                  ...           ...  ...           ...          ...\n",
              "2022-02-14  42157.398438  42775.777344  ...  42586.917969  20827783012\n",
              "2022-02-15  42586.464844  44667.218750  ...  44575.203125  22721659051\n",
              "2022-02-16  44578.277344  44578.277344  ...  43961.859375  19792547657\n",
              "2022-02-17  43937.070312  44132.972656  ...  40538.011719  26246662813\n",
              "2022-02-18  40475.714844  40922.371094  ...  40230.867188  25986531328\n",
              "\n",
              "[2712 rows x 6 columns]"
            ]
          },
          "metadata": {},
          "execution_count": 3
        }
      ]
    },
    {
      "cell_type": "markdown",
      "metadata": {
        "id": "NtsqQrVRnEBe"
      },
      "source": [
        "# **Data Processing**"
      ]
    },
    {
      "cell_type": "code",
      "metadata": {
        "id": "jU608R_nmrCT"
      },
      "source": [
        "scaler = MinMaxScaler(feature_range=(0,1))\n",
        "scaled_data=scaler.fit_transform(df['Close'].values.reshape(-1,1))"
      ],
      "execution_count": null,
      "outputs": []
    },
    {
      "cell_type": "code",
      "metadata": {
        "id": "U50JSNrgn7TV"
      },
      "source": [
        "prediction_days=60\n",
        "future_day=1\n",
        "\n",
        "x_train,y_train=[],[]\n",
        "\n",
        "for x in range(prediction_days,len(scaled_data)-future_day):\n",
        "  x_train.append(scaled_data[x-prediction_days:x,0])\n",
        "  y_train.append(scaled_data[x+future_day,0])\n",
        "\n",
        "x_train,y_train=np.array(x_train),np.array(y_train)\n",
        "x_train=np.reshape(x_train,(x_train.shape[0],x_train.shape[1],1))"
      ],
      "execution_count": null,
      "outputs": []
    },
    {
      "cell_type": "markdown",
      "metadata": {
        "id": "w2mAEF0cs08A"
      },
      "source": [
        "# **LSTM Model**"
      ]
    },
    {
      "cell_type": "code",
      "metadata": {
        "colab": {
          "base_uri": "https://localhost:8080/"
        },
        "id": "vNsDIhJ3oyDf",
        "outputId": "8b950049-5693-45b6-a418-9f1c60828ace"
      },
      "source": [
        "model=Sequential()\n",
        "\n",
        "model.add(LSTM(units=50,return_sequences=True,input_shape=(x_train.shape[1],1)))\n",
        "model.add(Dropout(0.2))\n",
        "model.add(LSTM(units=50,return_sequences=True))\n",
        "model.add(Dropout(0.2))\n",
        "model.add(LSTM(units=50))\n",
        "model.add(Dropout(0.2))\n",
        "model.add(Dense(units=1))\n",
        "\n",
        "model.compile(optimizer='adam',loss='mean_squared_error')\n",
        "model.fit(x_train,y_train,epochs=25,batch_size=32)"
      ],
      "execution_count": null,
      "outputs": [
        {
          "output_type": "stream",
          "name": "stdout",
          "text": [
            "Epoch 1/25\n",
            "83/83 [==============================] - 15s 99ms/step - loss: 0.0064\n",
            "Epoch 2/25\n",
            "83/83 [==============================] - 8s 93ms/step - loss: 0.0022\n",
            "Epoch 3/25\n",
            "83/83 [==============================] - 8s 95ms/step - loss: 0.0024\n",
            "Epoch 4/25\n",
            "83/83 [==============================] - 8s 91ms/step - loss: 0.0018\n",
            "Epoch 5/25\n",
            "83/83 [==============================] - 8s 93ms/step - loss: 0.0018\n",
            "Epoch 6/25\n",
            "83/83 [==============================] - 9s 112ms/step - loss: 0.0016\n",
            "Epoch 7/25\n",
            "83/83 [==============================] - 8s 97ms/step - loss: 0.0020\n",
            "Epoch 8/25\n",
            "83/83 [==============================] - 8s 96ms/step - loss: 0.0015\n",
            "Epoch 9/25\n",
            "83/83 [==============================] - 8s 95ms/step - loss: 0.0015\n",
            "Epoch 10/25\n",
            "83/83 [==============================] - 8s 95ms/step - loss: 0.0014\n",
            "Epoch 11/25\n",
            "83/83 [==============================] - 8s 93ms/step - loss: 0.0014\n",
            "Epoch 12/25\n",
            "83/83 [==============================] - 8s 94ms/step - loss: 0.0013\n",
            "Epoch 13/25\n",
            "83/83 [==============================] - 8s 93ms/step - loss: 0.0013\n",
            "Epoch 14/25\n",
            "83/83 [==============================] - 8s 94ms/step - loss: 0.0012\n",
            "Epoch 15/25\n",
            "83/83 [==============================] - 8s 94ms/step - loss: 0.0012\n",
            "Epoch 16/25\n",
            "83/83 [==============================] - 8s 94ms/step - loss: 0.0013\n",
            "Epoch 17/25\n",
            "83/83 [==============================] - 8s 94ms/step - loss: 0.0012\n",
            "Epoch 18/25\n",
            "83/83 [==============================] - 8s 93ms/step - loss: 0.0011\n",
            "Epoch 19/25\n",
            "83/83 [==============================] - 11s 129ms/step - loss: 0.0011\n",
            "Epoch 20/25\n",
            "83/83 [==============================] - 14s 166ms/step - loss: 0.0011\n",
            "Epoch 21/25\n",
            "83/83 [==============================] - 8s 99ms/step - loss: 0.0012\n",
            "Epoch 22/25\n",
            "83/83 [==============================] - 8s 92ms/step - loss: 0.0010\n",
            "Epoch 23/25\n",
            "83/83 [==============================] - 8s 95ms/step - loss: 0.0012\n",
            "Epoch 24/25\n",
            "83/83 [==============================] - 8s 94ms/step - loss: 0.0011\n",
            "Epoch 25/25\n",
            "83/83 [==============================] - 8s 93ms/step - loss: 0.0010\n"
          ]
        },
        {
          "output_type": "execute_result",
          "data": {
            "text/plain": [
              "<keras.callbacks.History at 0x7f566ad01510>"
            ]
          },
          "metadata": {},
          "execution_count": 6
        }
      ]
    },
    {
      "cell_type": "code",
      "metadata": {
        "colab": {
          "base_uri": "https://localhost:8080/"
        },
        "id": "UKfaiO1OtwxN",
        "outputId": "d3bd7f32-6213-4ac0-dfa5-91ea3af06699"
      },
      "source": [
        "test_start=dt.datetime(2020,1,1)\n",
        "test_end=dt.datetime.now()\n",
        "\n",
        "test_data=yf.download(s,start=test_start,end=test_end)\n",
        "actual_prices=test_data['Close'].values\n",
        "\n",
        "total_dataset=pd.concat((df['Close'],test_data['Close']),axis=0)\n",
        "\n",
        "model_inputs=total_dataset[len(total_dataset)-len(test_data)-prediction_days:].values\n",
        "model_inputs=model_inputs.reshape(-1,1)\n",
        "model_inputs=scaler.fit_transform(model_inputs)\n",
        "\n",
        "x_test=[]\n",
        "for x in range(prediction_days,len(model_inputs)):\n",
        "  x_test.append(model_inputs[x-prediction_days:x,0])\n",
        "x_test=np.array(x_test)\n",
        "x_test=np.reshape(x_test,(x_test.shape[0],x_test.shape[1],1))\n",
        "\n",
        "prediction_prices=model.predict(x_test)\n",
        "prediction_prices=scaler.inverse_transform(prediction_prices)\n"
      ],
      "execution_count": null,
      "outputs": [
        {
          "output_type": "stream",
          "name": "stdout",
          "text": [
            "\r[*********************100%***********************]  1 of 1 completed\n"
          ]
        }
      ]
    },
    {
      "cell_type": "code",
      "metadata": {
        "colab": {
          "base_uri": "https://localhost:8080/",
          "height": 513
        },
        "id": "KmKfGtQxxQEX",
        "outputId": "863b38e6-f8f0-4f2f-8dc1-bcbae77b773e"
      },
      "source": [
        "plt.figure(figsize=(16,8))\n",
        "\n",
        "plt.plot(actual_prices,color='black',label='Actual Price')\n",
        "plt.plot(prediction_prices,color='red',label='Predicted Price')\n",
        "plt.title('Bitcoin Price Prediction')\n",
        "plt.xlabel('Time')\n",
        "plt.ylabel('Price')\n",
        "plt.legend(loc='upper left')\n",
        "plt.show()"
      ],
      "execution_count": null,
      "outputs": [
        {
          "output_type": "display_data",
          "data": {
            "image/png": "[encoded data removed]",
            "text/plain": [
              "<Figure size 1152x576 with 1 Axes>"
            ]
          },
          "metadata": {
            "needs_background": "light"
          }
        }
      ]
    },
    {
      "cell_type": "markdown",
      "metadata": {
        "id": "9scc_PD087ah"
      },
      "source": [
        "**Future Price**"
      ]
    },
    {
      "cell_type": "code",
      "metadata": {
        "id": "jbaDjVjs2L0C",
        "colab": {
          "base_uri": "https://localhost:8080/"
        },
        "outputId": "c9573366-deaa-4063-cacc-146401c2711c"
      },
      "source": [
        "ftr=0\n",
        "real_data=[model_inputs[len(model_inputs)+ftr-prediction_days:len(model_inputs)+ftr,0]]\n",
        "real_data=np.array(real_data)\n",
        "real_data=np.reshape(real_data,(real_data.shape[0],real_data.shape[1],1))\n",
        "\n",
        "pred_price=model.predict(real_data)\n",
        "pred_price=scaler.inverse_transform(pred_price)\n",
        "print(\"Future price:\",pred_price)"
      ],
      "execution_count": null,
      "outputs": [
        {
          "output_type": "stream",
          "name": "stdout",
          "text": [
            "Future price: [[42936.7]]\n"
          ]
        }
      ]
    },
    {
      "cell_type": "code",
      "metadata": {
        "id": "ry-4-jXw9wGW"
      },
      "source": [],
      "execution_count": null,
      "outputs": []
    }
  ]
}